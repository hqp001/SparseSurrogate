{
 "cells": [
  {
   "cell_type": "code",
   "execution_count": 1,
   "id": "14c55029-c758-4d35-9c91-38599f945986",
   "metadata": {},
   "outputs": [],
   "source": [
    "import os\n",
    "import json\n"
   ]
  },
  {
   "cell_type": "code",
   "execution_count": 2,
   "id": "e6e649c9-306e-4f0e-b1b2-727654545f8c",
   "metadata": {},
   "outputs": [],
   "source": [
    "# Define the path to the main folder and summary file\n",
    "base_folder = 'models'  # Adjust the path if necessary\n",
    "summary_path = os.path.join(base_folder, 'summary.json')\n"
   ]
  },
  {
   "cell_type": "code",
   "execution_count": 3,
   "id": "acf4128e-4089-49e8-89b5-549a38d98228",
   "metadata": {},
   "outputs": [
    {
     "data": {
      "text/plain": [
       "'models'"
      ]
     },
     "execution_count": 3,
     "metadata": {},
     "output_type": "execute_result"
    }
   ],
   "source": [
    "base_folder"
   ]
  },
  {
   "cell_type": "code",
   "execution_count": 4,
   "id": "972182bb-9324-4fa4-bd30-8d912bd5cc3b",
   "metadata": {},
   "outputs": [
    {
     "data": {
      "text/plain": [
       "'models/summary.json'"
      ]
     },
     "execution_count": 4,
     "metadata": {},
     "output_type": "execute_result"
    }
   ],
   "source": [
    "summary_path"
   ]
  },
  {
   "cell_type": "code",
   "execution_count": 24,
   "id": "f55eb78d-f5e7-4ff8-a86a-b3c4b51b89f3",
   "metadata": {},
   "outputs": [
    {
     "name": "stdout",
     "output_type": "stream",
     "text": [
      "f449b7cf681b2e22\n",
      "45eb22c628894821\n",
      "04cc4bd0161c9867\n",
      "367a6803fa831e29\n",
      "5deb64590c6ca9ba\n",
      "bfe2b0559a199d63\n",
      "3e5c102bdabf616f\n",
      "c118d8f7c7e90b73\n",
      "90dd9b3228c9286c\n",
      "39c3e308b3eda53c\n",
      "c290558657e056ca\n",
      "4c643cf359c3e311\n",
      "62117ec5e76d027e\n",
      "ac86ef191eb2280c\n",
      "934b9d626fea0f44\n",
      "8cb0235feafe3b8f\n",
      "a73897880fb27823\n",
      "707bd5849a85b9aa\n",
      "9a00d9457d314c01\n",
      "cf4d797e030fa96f\n",
      "384fd49572c91514\n",
      "1eb1fc2e2684d6fd\n",
      "f7dc685776059b00\n",
      "fb0b79d598cd52c6\n",
      "9d84cedd21a440f2\n",
      "17b14b7200069d2a\n",
      "6461585725747027\n",
      "729b398b6557c3ef\n",
      "bb3f86763870846e\n",
      "1291497db699c2c7\n",
      "760a372701a87083\n",
      "b89e3b79ff8389c9\n",
      "1b530698396bcd64\n",
      "59ad2abd01c4e2fe\n",
      "89f8eb7d670503d9\n",
      "5a8d9f01914a67c9\n",
      "c58047a20be8f56c\n",
      "9651de7942d64c3f\n",
      "3f81254d74aceb2a\n",
      "26500b23fff148d6\n",
      "a0a97e46e71f898c\n",
      "46a6845581ae64d3\n",
      "9e17eb50e893a147\n",
      "e28c03a79010639a\n",
      "f3d506dad340fa6b\n",
      "b3375e931dca7220\n",
      "05b557b8142a6322\n",
      "642839130ec6c668\n"
     ]
    }
   ],
   "source": [
    "with open(summary_path, 'r') as f:\n",
    "    summary_data = json.load(f)\n",
    "for id in summary_data[\"models\"]:\n",
    "    print(id[\"input_id\"])"
   ]
  },
  {
   "cell_type": "code",
   "execution_count": 101,
   "id": "99ac0aa2-408c-4207-88e5-3072f397e000",
   "metadata": {},
   "outputs": [],
   "source": [
    "# Initialize a counter for cases where \"sparse\" is better than \"dense\"\n",
    "\n",
    "def retrieve_table(model_name, callback_type, metric):\n",
    "    sparse_better_count = 0\n",
    "    total_exp = 0\n",
    "    \n",
    "    # Loop through each input_id stored in the summary file\n",
    "    for input_id in summary_data[\"models\"]:\n",
    "        input_id_path = input_id[\"input_id\"]\n",
    "    \n",
    "        # Initialize variables to store the performance data for the current input_id\n",
    "        sparse_data = None\n",
    "        dense_data = None\n",
    "        \n",
    "        # Check for \"sparse\" and \"dense\" model output.json files within the current input_id folder\n",
    "        sparse_path = os.path.join(base_folder, input_id_path, model_name, 'output.json')\n",
    "        dense_path = os.path.join(base_folder, input_id_path, 'dense', 'output.json')\n",
    "        \n",
    "        # Read the \"sparse\" model data if it exists\n",
    "        if os.path.exists(sparse_path):\n",
    "            with open(sparse_path, 'r') as f:\n",
    "                sparse_data = json.load(f)\n",
    "    \n",
    "        # Read the \"dense\" model data if it exists\n",
    "        if os.path.exists(dense_path):\n",
    "            with open(dense_path, 'r') as f:\n",
    "                dense_data = json.load(f)\n",
    "    \n",
    "        sp = sparse_data[callback_type][metric]\n",
    "        de = dense_data[\"NonCallBack\"][metric]\n",
    "        \n",
    "        if de != None and sp != None:\n",
    "            if sp < de:\n",
    "                sparse_better_count += 1\n",
    "        else:\n",
    "            if de == None and sp != None:\n",
    "                sparse_better_count += 1\n",
    "            if de == None and sp == None:\n",
    "                total_exp -= 1\n",
    "            \n",
    "        total_exp += 1\n",
    "\n",
    "    return sparse_better_count, total_exp, f\"{(sparse_better_count / total_exp):.4f}\""
   ]
  },
  {
   "cell_type": "code",
   "execution_count": null,
   "id": "ea491f6e-fb3d-4171-b888-e373b8c24470",
   "metadata": {},
   "outputs": [],
   "source": []
  },
  {
   "cell_type": "code",
   "execution_count": 87,
   "id": "42d96ab5-6d5d-4de6-bb13-3abb6c275639",
   "metadata": {},
   "outputs": [
    {
     "data": {
      "text/plain": [
       "(22, 48, 0.4583333333333333)"
      ]
     },
     "execution_count": 87,
     "metadata": {},
     "output_type": "execute_result"
    }
   ],
   "source": [
    "retrieve_table(\"sparse_0.5\", \"NonCallBack\", \"MostNegativeValue\")"
   ]
  },
  {
   "cell_type": "code",
   "execution_count": 102,
   "id": "85616ee1-5530-4ef1-8037-69fba8fdf466",
   "metadata": {},
   "outputs": [],
   "source": [
    "# Create an empty DataFrame to store the results\n",
    "import pandas as pd\n",
    "model_names = [\"sparse_0.5\", \"sparse_0.8\", \"sparse_0.9\", \"structure_0.2\", \"structure_0.3\"]\n",
    "callback_types = [\"NonCallBack\", \"RemoveRegion\"]\n",
    "metrics = [\"MostNegativeValue\", \"TimeFirstNegative\"]\n",
    "# Create separate DataFrames for each callback type\n",
    "\n",
    "non_callback_data = {}\n",
    "callback_data = {}\n",
    "\n",
    "# Loop through each model_name, callback_type, and metric to populate data\n",
    "for model_name in model_names:\n",
    "    non_callback_data[model_name] = {}\n",
    "    callback_data[model_name] = {}\n",
    "    \n",
    "    for metric in metrics:\n",
    "        non_callback_data[model_name][metric] = retrieve_table(model_name, 'NonCallBack', metric)\n",
    "        callback_data[model_name][metric] = retrieve_table(model_name, 'RemoveRegion', metric)\n",
    "\n",
    "# Convert the data dictionaries to DataFrames\n",
    "non_callback_df = pd.DataFrame.from_dict(non_callback_data, orient='index')\n",
    "callback_df = pd.DataFrame.from_dict(callback_data, orient='index')\n",
    "\n",
    "# Combine both tables into one DataFrame with an identifier for callback type\n",
    "combined_df = pd.concat([non_callback_df, callback_df], keys=['NonCallBack', 'RemoveRegion'], names=['Callback Type', 'Model Name'])\n",
    "\n",
    "# Export the combined DataFrame to a single CSV file\n",
    "combined_df.to_csv('model_comparison_tables.csv')"
   ]
  },
  {
   "cell_type": "code",
   "execution_count": null,
   "id": "ee15cd3a-0a14-4e9b-b8a4-38bab16dfff2",
   "metadata": {},
   "outputs": [],
   "source": []
  }
 ],
 "metadata": {
  "kernelspec": {
   "display_name": "Python 3 (ipykernel)",
   "language": "python",
   "name": "python3"
  },
  "language_info": {
   "codemirror_mode": {
    "name": "ipython",
    "version": 3
   },
   "file_extension": ".py",
   "mimetype": "text/x-python",
   "name": "python",
   "nbconvert_exporter": "python",
   "pygments_lexer": "ipython3",
   "version": "3.10.14"
  }
 },
 "nbformat": 4,
 "nbformat_minor": 5
}
